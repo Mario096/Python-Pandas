{
 "cells": [
  {
   "cell_type": "markdown",
   "metadata": {},
   "source": [
    "## NYC Restaurants"
   ]
  },
  {
   "cell_type": "code",
   "execution_count": 2,
   "metadata": {
    "collapsed": false
   },
   "outputs": [
    {
     "name": "stdout",
     "output_type": "stream",
     "text": [
      "Populating the interactive namespace from numpy and matplotlib\n"
     ]
    },
    {
     "data": {
      "text/html": [
       "<div>\n",
       "<table border=\"1\" class=\"dataframe\">\n",
       "  <thead>\n",
       "    <tr style=\"text-align: right;\">\n",
       "      <th></th>\n",
       "      <th>CAMIS</th>\n",
       "      <th>DBA</th>\n",
       "      <th>BORO</th>\n",
       "      <th>BUILDING</th>\n",
       "      <th>STREET</th>\n",
       "      <th>ZIPCODE</th>\n",
       "      <th>PHONE</th>\n",
       "      <th>CUISINE DESCRIPTION</th>\n",
       "      <th>INSPECTION DATE</th>\n",
       "      <th>ACTION</th>\n",
       "      <th>VIOLATION CODE</th>\n",
       "      <th>VIOLATION DESCRIPTION</th>\n",
       "      <th>CRITICAL FLAG</th>\n",
       "      <th>SCORE</th>\n",
       "      <th>GRADE</th>\n",
       "      <th>GRADE DATE</th>\n",
       "      <th>RECORD DATE</th>\n",
       "      <th>INSPECTION TYPE</th>\n",
       "    </tr>\n",
       "  </thead>\n",
       "  <tbody>\n",
       "    <tr>\n",
       "      <th>0</th>\n",
       "      <td>30112340</td>\n",
       "      <td>WENDY'S</td>\n",
       "      <td>BROOKLYN</td>\n",
       "      <td>469</td>\n",
       "      <td>FLATBUSH AVENUE</td>\n",
       "      <td>11225</td>\n",
       "      <td>7182875005</td>\n",
       "      <td>Hamburgers</td>\n",
       "      <td>12/30/2014</td>\n",
       "      <td>Violations were cited in the following area(s).</td>\n",
       "      <td>06C</td>\n",
       "      <td>Food not protected from potential source of co...</td>\n",
       "      <td>Critical</td>\n",
       "      <td>8</td>\n",
       "      <td>A</td>\n",
       "      <td>12/30/2014</td>\n",
       "      <td>02/12/2015</td>\n",
       "      <td>Cycle Inspection / Re-inspection</td>\n",
       "    </tr>\n",
       "    <tr>\n",
       "      <th>1</th>\n",
       "      <td>30112340</td>\n",
       "      <td>WENDY'S</td>\n",
       "      <td>BROOKLYN</td>\n",
       "      <td>469</td>\n",
       "      <td>FLATBUSH AVENUE</td>\n",
       "      <td>11225</td>\n",
       "      <td>7182875005</td>\n",
       "      <td>Hamburgers</td>\n",
       "      <td>12/30/2014</td>\n",
       "      <td>Violations were cited in the following area(s).</td>\n",
       "      <td>10F</td>\n",
       "      <td>Non-food contact surface improperly constructe...</td>\n",
       "      <td>Not Critical</td>\n",
       "      <td>8</td>\n",
       "      <td>A</td>\n",
       "      <td>12/30/2014</td>\n",
       "      <td>02/12/2015</td>\n",
       "      <td>Cycle Inspection / Re-inspection</td>\n",
       "    </tr>\n",
       "    <tr>\n",
       "      <th>2</th>\n",
       "      <td>30112340</td>\n",
       "      <td>WENDY'S</td>\n",
       "      <td>BROOKLYN</td>\n",
       "      <td>469</td>\n",
       "      <td>FLATBUSH AVENUE</td>\n",
       "      <td>11225</td>\n",
       "      <td>7182875005</td>\n",
       "      <td>Hamburgers</td>\n",
       "      <td>11/13/2014</td>\n",
       "      <td>Violations were cited in the following area(s).</td>\n",
       "      <td>04H</td>\n",
       "      <td>Raw, cooked or prepared food is adulterated, c...</td>\n",
       "      <td>Critical</td>\n",
       "      <td>16</td>\n",
       "      <td>NaN</td>\n",
       "      <td>NaN</td>\n",
       "      <td>02/12/2015</td>\n",
       "      <td>Cycle Inspection / Initial Inspection</td>\n",
       "    </tr>\n",
       "    <tr>\n",
       "      <th>3</th>\n",
       "      <td>30112340</td>\n",
       "      <td>WENDY'S</td>\n",
       "      <td>BROOKLYN</td>\n",
       "      <td>469</td>\n",
       "      <td>FLATBUSH AVENUE</td>\n",
       "      <td>11225</td>\n",
       "      <td>7182875005</td>\n",
       "      <td>Hamburgers</td>\n",
       "      <td>11/13/2014</td>\n",
       "      <td>Violations were cited in the following area(s).</td>\n",
       "      <td>06A</td>\n",
       "      <td>Personal cleanliness inadequate. Outer garment...</td>\n",
       "      <td>Critical</td>\n",
       "      <td>16</td>\n",
       "      <td>NaN</td>\n",
       "      <td>NaN</td>\n",
       "      <td>02/12/2015</td>\n",
       "      <td>Cycle Inspection / Initial Inspection</td>\n",
       "    </tr>\n",
       "    <tr>\n",
       "      <th>4</th>\n",
       "      <td>30112340</td>\n",
       "      <td>WENDY'S</td>\n",
       "      <td>BROOKLYN</td>\n",
       "      <td>469</td>\n",
       "      <td>FLATBUSH AVENUE</td>\n",
       "      <td>11225</td>\n",
       "      <td>7182875005</td>\n",
       "      <td>Hamburgers</td>\n",
       "      <td>11/13/2014</td>\n",
       "      <td>Violations were cited in the following area(s).</td>\n",
       "      <td>10F</td>\n",
       "      <td>Non-food contact surface improperly constructe...</td>\n",
       "      <td>Not Critical</td>\n",
       "      <td>16</td>\n",
       "      <td>NaN</td>\n",
       "      <td>NaN</td>\n",
       "      <td>02/12/2015</td>\n",
       "      <td>Cycle Inspection / Initial Inspection</td>\n",
       "    </tr>\n",
       "  </tbody>\n",
       "</table>\n",
       "</div>"
      ],
      "text/plain": [
       "      CAMIS      DBA      BORO BUILDING           STREET ZIPCODE       PHONE  \\\n",
       "0  30112340  WENDY'S  BROOKLYN      469  FLATBUSH AVENUE   11225  7182875005   \n",
       "1  30112340  WENDY'S  BROOKLYN      469  FLATBUSH AVENUE   11225  7182875005   \n",
       "2  30112340  WENDY'S  BROOKLYN      469  FLATBUSH AVENUE   11225  7182875005   \n",
       "3  30112340  WENDY'S  BROOKLYN      469  FLATBUSH AVENUE   11225  7182875005   \n",
       "4  30112340  WENDY'S  BROOKLYN      469  FLATBUSH AVENUE   11225  7182875005   \n",
       "\n",
       "  CUISINE DESCRIPTION INSPECTION DATE  \\\n",
       "0          Hamburgers      12/30/2014   \n",
       "1          Hamburgers      12/30/2014   \n",
       "2          Hamburgers      11/13/2014   \n",
       "3          Hamburgers      11/13/2014   \n",
       "4          Hamburgers      11/13/2014   \n",
       "\n",
       "                                            ACTION VIOLATION CODE  \\\n",
       "0  Violations were cited in the following area(s).            06C   \n",
       "1  Violations were cited in the following area(s).            10F   \n",
       "2  Violations were cited in the following area(s).            04H   \n",
       "3  Violations were cited in the following area(s).            06A   \n",
       "4  Violations were cited in the following area(s).            10F   \n",
       "\n",
       "                               VIOLATION DESCRIPTION CRITICAL FLAG SCORE  \\\n",
       "0  Food not protected from potential source of co...      Critical     8   \n",
       "1  Non-food contact surface improperly constructe...  Not Critical     8   \n",
       "2  Raw, cooked or prepared food is adulterated, c...      Critical    16   \n",
       "3  Personal cleanliness inadequate. Outer garment...      Critical    16   \n",
       "4  Non-food contact surface improperly constructe...  Not Critical    16   \n",
       "\n",
       "  GRADE  GRADE DATE RECORD DATE                        INSPECTION TYPE  \n",
       "0     A  12/30/2014  02/12/2015       Cycle Inspection / Re-inspection  \n",
       "1     A  12/30/2014  02/12/2015       Cycle Inspection / Re-inspection  \n",
       "2   NaN         NaN  02/12/2015  Cycle Inspection / Initial Inspection  \n",
       "3   NaN         NaN  02/12/2015  Cycle Inspection / Initial Inspection  \n",
       "4   NaN         NaN  02/12/2015  Cycle Inspection / Initial Inspection  "
      ]
     },
     "execution_count": 2,
     "metadata": {},
     "output_type": "execute_result"
    }
   ],
   "source": [
    "# Setting up file for analysis\n",
    "from pandas import Series, DataFrame\n",
    "import pandas as pd\n",
    "%pylab inline\n",
    "\n",
    "# Read file into dataframe\n",
    "df = pd.read_csv(\"NYC_Restaurants.csv\", dtype=unicode, index_col = 0)\n",
    "df.head()"
   ]
  },
  {
   "cell_type": "markdown",
   "metadata": {},
   "source": [
    "### [Q1, 7 points] Create a unique name for each restaurant\n",
    "On the\n",
    "DataFrame created above, add a new column to your DataFrame, called\n",
    "’RESTAURANT’, that combines DBA, BUILDING, STREET, and ZIPCODE\n",
    "fields. For example, “WENDY’S 469 FLATBUSH AVENUE 11225”.\n",
    "Print the first 10 values of the RESTAURANT column of your DataFrame"
   ]
  },
  {
   "cell_type": "markdown",
   "metadata": {},
   "source": [
    "Approach: Created a new column in dataframe by adding together values from DBA, Building, Street and Zipcode with spaces in between"
   ]
  },
  {
   "cell_type": "code",
   "execution_count": 5,
   "metadata": {
    "collapsed": false
   },
   "outputs": [
    {
     "data": {
      "text/plain": [
       "0                    WENDY'S 469 FLATBUSH AVENUE 11225\n",
       "1                    WENDY'S 469 FLATBUSH AVENUE 11225\n",
       "2                    WENDY'S 469 FLATBUSH AVENUE 11225\n",
       "3                    WENDY'S 469 FLATBUSH AVENUE 11225\n",
       "4                    WENDY'S 469 FLATBUSH AVENUE 11225\n",
       "5               TOV KOSHER KITCHEN 97-22 63 ROAD 11374\n",
       "6               TOV KOSHER KITCHEN 97-22 63 ROAD 11374\n",
       "7               TOV KOSHER KITCHEN 97-22 63 ROAD 11374\n",
       "8               TOV KOSHER KITCHEN 97-22 63 ROAD 11374\n",
       "9    BRUNOS ON THE BOULEVARD 8825 ASTORIA BOULEVARD...\n",
       "Name: RESTAURANT, dtype: object"
      ]
     },
     "execution_count": 5,
     "metadata": {},
     "output_type": "execute_result"
    }
   ],
   "source": [
    "df['RESTAURANT'] = df['DBA'] + \" \" + df['BUILDING'] + \" \" + df['STREET'] + \" \" + df['ZIPCODE']\n",
    "df['RESTAURANT'].head(10)"
   ]
  },
  {
   "cell_type": "markdown",
   "metadata": {},
   "source": [
    "### [Q2, 7 points] How many restaurants are included in the data?\n",
    "Careful now:\n",
    "• A “Subway” in one particular address (i.e., building, street, zipcode,\n",
    "and boro) counts as one restaurant; don’t combine all Subways into\n",
    "one restaurant!\n",
    "• The data can have multiple violations for the same restaurant!"
   ]
  },
  {
   "cell_type": "markdown",
   "metadata": {},
   "source": [
    "Approach: Dropped duplicate rows from dataset based on 'Restaurant'. Print length of dataframe for total number of restaurants"
   ]
  },
  {
   "cell_type": "code",
   "execution_count": 6,
   "metadata": {
    "collapsed": false
   },
   "outputs": [
    {
     "name": "stdout",
     "output_type": "stream",
     "text": [
      "There are 10114 restaurants in the data.\n"
     ]
    }
   ],
   "source": [
    "df_restaurants = df.drop_duplicates(subset = 'RESTAURANT')\n",
    "print \"There are\", len(df_restaurants), \"restaurants in the data.\""
   ]
  },
  {
   "cell_type": "markdown",
   "metadata": {},
   "source": [
    "### [Q3, 7 points] How many chains are there?\n",
    "Let us define a chain to be the same restaurant name occurring in at least two different (building,\n",
    "street, zipcode) addresses."
   ]
  },
  {
   "cell_type": "markdown",
   "metadata": {},
   "source": [
    "Approach: Select all chains by value counts of \"DBA\" that are greater than 1. Create series with chain name and count of restaurants of that chain."
   ]
  },
  {
   "cell_type": "code",
   "execution_count": 7,
   "metadata": {
    "collapsed": false
   },
   "outputs": [
    {
     "name": "stdout",
     "output_type": "stream",
     "text": [
      "There are 368 unique chains in the data.\n",
      "There are 1666 total restaurants that are chains in the data.\n"
     ]
    }
   ],
   "source": [
    "chains_mask = df_restaurants['DBA'].value_counts()\n",
    "chains = chains_mask.loc[chains_mask > 1]\n",
    "print \"There are\", len(chains), \"unique chains in the data.\"\n",
    "print \"There are\", chains.sum(), \"total restaurants that are chains in the data.\""
   ]
  },
  {
   "cell_type": "markdown",
   "metadata": {},
   "source": [
    "### [Q4, 7 points] Plot a bar graph of the top 20 most popular chains.\n",
    "We already have the chains from the previous problem."
   ]
  },
  {
   "cell_type": "markdown",
   "metadata": {},
   "source": [
    "Approach: Plot the top 20 chains from the series above. Series is already sorted by values."
   ]
  },
  {
   "cell_type": "code",
   "execution_count": 8,
   "metadata": {
    "collapsed": false
   },
   "outputs": [
    {
     "data": {
      "text/plain": [
       "<matplotlib.axes._subplots.AxesSubplot at 0x10bad8450>"
      ]
     },
     "execution_count": 8,
     "metadata": {},
     "output_type": "execute_result"
    },
    {
     "data": {
      "image/png": "[encoded data removed]",
      "text/plain": [
       "<matplotlib.figure.Figure at 0x10bad8a90>"
      ]
     },
     "metadata": {},
     "output_type": "display_data"
    }
   ],
   "source": [
    "top_20_chains = chains[:20]\n",
    "top_20_chains.plot(kind = 'bar')"
   ]
  },
  {
   "cell_type": "markdown",
   "metadata": {},
   "source": [
    "### [Q5, 7 points] What fraction of all restaurants are chains?"
   ]
  },
  {
   "cell_type": "markdown",
   "metadata": {},
   "source": [
    "Approach: Divide the number of restaurants that are chains by the number of total restaurants"
   ]
  },
  {
   "cell_type": "code",
   "execution_count": 9,
   "metadata": {
    "collapsed": false
   },
   "outputs": [
    {
     "name": "stdout",
     "output_type": "stream",
     "text": [
      "16.47 % of all restaurants are chains\n"
     ]
    }
   ],
   "source": [
    "chains_count = chains.sum()\n",
    "all_restaurants_count = len(df_restaurants)\n",
    "print (\"{0:.2f}\".format(round(float(chains_count) / float(all_restaurants_count)*100,2))), \"% of all restaurants are chains\""
   ]
  },
  {
   "cell_type": "markdown",
   "metadata": {},
   "source": [
    "### [Q6, 7 points] Plot the number of non-chain restaurants in each boro.\n",
    "First, we need to figure out all the non-chain restaurants, then select\n",
    "out only those restaurants, and finally plot the number of such restaurants\n",
    "by boro. Make sure to look at the plot; we don’t want to see... oh... the\n",
    "“missing” boro."
   ]
  },
  {
   "cell_type": "markdown",
   "metadata": {},
   "source": [
    "Approach: Find all non-chain restaurants by applying the chains_mask where the value was equal to 1 (more than 1 would mean it was a chain). Using a list of non-chains from the index, look up all the non-chain restaurants in the deduped restaurant dataframe. Then make a DataFrame of the value counts of restaurants by BORO and drop 'Missing'."
   ]
  },
  {
   "cell_type": "code",
   "execution_count": 10,
   "metadata": {
    "collapsed": false
   },
   "outputs": [
    {
     "data": {
      "text/plain": [
       "<matplotlib.axes._subplots.AxesSubplot at 0x10ba71410>"
      ]
     },
     "execution_count": 10,
     "metadata": {},
     "output_type": "execute_result"
    },
    {
     "data": {
      "image/png": "[encoded data removed]",
      "text/plain": [
       "<matplotlib.figure.Figure at 0x10bda7510>"
      ]
     },
     "metadata": {},
     "output_type": "display_data"
    }
   ],
   "source": [
    "non_chain = chains_mask.loc[chains_mask == 1]\n",
    "non_chain_list = non_chain.index.tolist()\n",
    "non_chain_df = df_restaurants.loc[df_restaurants['DBA'].isin(non_chain_list)]\n",
    "\n",
    "boro_df = pd.DataFrame()\n",
    "boro_df['NON_CHAIN'] = non_chain_df['BORO'].value_counts()\n",
    "boro_df = boro_df.drop(['Missing'])\n",
    "boro_df['NON_CHAIN'].plot(kind = 'bar', title = \"Number of Non-Chain Restaurants By Boro\")"
   ]
  },
  {
   "cell_type": "markdown",
   "metadata": {},
   "source": [
    "### [Q7, 10 points] Plot the fraction of non-chain restaurants in each boro. \n",
    "The boro with the most non-chain restaurants might just be the\n",
    "boro with the most restaurants in general. If we want to find the boro that\n",
    "attracts the most “independent” restauranteurs, we must divide the number\n",
    "of non-chain restaurants by the total number of restaurants in the boro. Plot\n",
    "this.\n",
    "Is the boro with the most independent restaurants also the one with the\n",
    "highest ratio of independent restaurants?"
   ]
  },
  {
   "cell_type": "markdown",
   "metadata": {},
   "source": [
    "Approach: Find the total number of restaurants in each BORO, drop missing, and add to BORO dataframe. Then calculate the percentage of non-chain restaurants/total resaurants and add a new column called 'PERC_NON_CHAIN'"
   ]
  },
  {
   "cell_type": "code",
   "execution_count": 11,
   "metadata": {
    "collapsed": false
   },
   "outputs": [
    {
     "data": {
      "text/plain": [
       "<matplotlib.axes._subplots.AxesSubplot at 0x10b787610>"
      ]
     },
     "execution_count": 11,
     "metadata": {},
     "output_type": "execute_result"
    },
    {
     "data": {
      "image/png": "[encoded data removed]",
      "text/plain": [
       "<matplotlib.figure.Figure at 0x10b7b3cd0>"
      ]
     },
     "metadata": {},
     "output_type": "display_data"
    }
   ],
   "source": [
    "# Find total restaurants\n",
    "total_rest = df_restaurants['BORO'].value_counts().drop('Missing')\n",
    "boro_df['TOTAL_REST'] = total_rest\n",
    "\n",
    "boro_df['PERC_NON_CHAIN'] = boro_df['NON_CHAIN'] / boro_df['TOTAL_REST'] * 100\n",
    "boro_df['PERC_NON_CHAIN'].plot(kind = 'bar', title = \"Percentage Non-Chain by Boro\")"
   ]
  },
  {
   "cell_type": "markdown",
   "metadata": {},
   "source": [
    "### [Q8, 7 points] Plot the popularity of cuisines. \n",
    "Which cuisines are the most well-represented among all restaurants? Plot the popularity of the top\n",
    "20 cuisines. Again, be careful in your counting: remember that the same\n",
    "restaurant can have multiple violations!"
   ]
  },
  {
   "cell_type": "markdown",
   "metadata": {},
   "source": [
    "Approach: Plot the value counts of cuisines from the restaurant dataframe"
   ]
  },
  {
   "cell_type": "code",
   "execution_count": 12,
   "metadata": {
    "collapsed": false
   },
   "outputs": [
    {
     "data": {
      "text/plain": [
       "<matplotlib.axes._subplots.AxesSubplot at 0x102f07410>"
      ]
     },
     "execution_count": 12,
     "metadata": {},
     "output_type": "execute_result"
    },
    {
     "data": {
      "image/png": "[encoded data removed]",
      "text/plain": [
       "<matplotlib.figure.Figure at 0x10b6c5990>"
      ]
     },
     "metadata": {},
     "output_type": "display_data"
    }
   ],
   "source": [
    "cuisine_series = df_restaurants['CUISINE DESCRIPTION'].value_counts()\n",
    "top_20_cuisine_series = cuisine_series[:20]\n",
    "top_20_cuisine_series.plot(kind = 'bar')"
   ]
  },
  {
   "cell_type": "markdown",
   "metadata": {},
   "source": [
    "### [Q9, 12 points] Plot the cuisines among restaurants which do not get cited for violations. \n",
    "Ideally, you should explore and see what happens\n",
    "when there is no violation, but here I will just tell you: the ’VIOLATION\n",
    "CODE’ field is missing.\n",
    "• Select only the ’RESTAURANT’ and ’CUISINE DESCRIPTION’ columns\n",
    "of the DataFrame (we created the ’RESTAURANT’ field in an earlier\n",
    "question).\n",
    "• Select the instances where a restaurant did not get cited.\n",
    "• Among these instances, how frequent is each of the cuisines?\n",
    "Plot the frequencies of the top-20 among these cuisines."
   ]
  },
  {
   "cell_type": "markdown",
   "metadata": {},
   "source": [
    "Approach: Fill all empty violation codes with -1, then create a mask to select the rows with -1. Then select all the restaurants with no violations and plot based on value counts of cuisine descriptions."
   ]
  },
  {
   "cell_type": "code",
   "execution_count": 13,
   "metadata": {
    "collapsed": false
   },
   "outputs": [
    {
     "name": "stderr",
     "output_type": "stream",
     "text": [
      "/anaconda/lib/python2.7/site-packages/ipykernel/__main__.py:3: UserWarning: Boolean Series key will be reindexed to match DataFrame index.\n",
      "  app.launch_new_instance()\n"
     ]
    },
    {
     "data": {
      "text/plain": [
       "<matplotlib.axes._subplots.AxesSubplot at 0x10b80fc10>"
      ]
     },
     "execution_count": 13,
     "metadata": {},
     "output_type": "execute_result"
    },
    {
     "data": {
      "image/png": "[encoded data removed]",
      "text/plain": [
       "<matplotlib.figure.Figure at 0x10b403390>"
      ]
     },
     "metadata": {},
     "output_type": "display_data"
    }
   ],
   "source": [
    "no_viol_mask = df['VIOLATION CODE'].fillna(-1)\n",
    "no_viol_mask = (no_viol_mask == -1)\n",
    "no_viol_df = df_restaurants[no_viol_mask]\n",
    "no_viol_cuisine = no_viol_df['CUISINE DESCRIPTION'].value_counts()\n",
    "no_viol_cuisine[:20].plot(kind = 'bar')"
   ]
  },
  {
   "cell_type": "markdown",
   "metadata": {
    "collapsed": true
   },
   "source": [
    "### [Q10, 7 points] What cuisines tend to be the “cleanest”?\n",
    "• Select all cuisines for which there were at least 20 inspections of restaurants\n",
    "representing that cuisine.\n",
    "• For each such cuisine, compute the ratio of inspections that found no\n",
    "violations to the total number of inspections. (This is just the ratio of\n",
    "counts in the previous two questions.)\n",
    "• Find the top-10 cuisines with the highest ratios; these are that cuisines\n",
    "whose restaurants are “most likely to be clean.” (Hint: Check out the\n",
    "“sort values” method for Series)."
   ]
  },
  {
   "cell_type": "markdown",
   "metadata": {},
   "source": [
    "Approach: Create a new dataframe with the number of restaurants with no violations per cuisine, and the total number of cuisines, then calculate the ratio of the two. Plot that ratio."
   ]
  },
  {
   "cell_type": "code",
   "execution_count": 14,
   "metadata": {
    "collapsed": false
   },
   "outputs": [
    {
     "data": {
      "text/plain": [
       "<matplotlib.axes._subplots.AxesSubplot at 0x10b4dc090>"
      ]
     },
     "execution_count": 14,
     "metadata": {},
     "output_type": "execute_result"
    },
    {
     "data": {
      "image/png": "[encoded data removed]",
      "text/plain": [
       "<matplotlib.figure.Figure at 0x10b508a50>"
      ]
     },
     "metadata": {},
     "output_type": "display_data"
    }
   ],
   "source": [
    "cuisines_viol_df = pd.DataFrame()\n",
    "cuisines_viol_df['no_violations'] = no_viol_cuisine\n",
    "mask_20_inspections = cuisine_series > 20\n",
    "cuisines_viol_df['total_cuisine_count'] = cuisine_series[mask_20_inspections]\n",
    "cuisines_viol_df = cuisines_viol_df.dropna()\n",
    "\n",
    "cuisines_viol_df['clean_to_total_ratio'] = cuisines_viol_df['no_violations'] / cuisines_viol_df['total_cuisine_count']\n",
    "cuisines_viol_df = cuisines_viol_df.sort_values(by = 'clean_to_total_ratio', ascending = False)\n",
    "\n",
    "cuisines_viol_df[:10]['clean_to_total_ratio'].plot(kind = 'bar', title = \"Cleanest cuisines\")"
   ]
  },
  {
   "cell_type": "markdown",
   "metadata": {},
   "source": [
    "### [Q11, 10 points] What are the most common violations in each borough? \n",
    "Create a table of the number of times each violation description\n",
    "was observed in each borough, and figure out the most common violation\n",
    "description for each borough.\n",
    "To create the table, there are two possibilities:\n",
    "• You can create a dummy column, fill it with just the number 1, and\n",
    "create the table using a command we have seen in class (Hint: we will\n",
    "want aggfunc=sum).\n",
    "• Alternatively, you can look up the function crosstab which does this\n",
    "counting by default.\n",
    "Once you do have the table, you will still need to find the most common\n",
    "violation description for each borough."
   ]
  },
  {
   "cell_type": "markdown",
   "metadata": {},
   "source": [
    "Approach: Select BORO and Violation Description for the original dataframe. Then create a crosstabs on violations by boro based on description. Then, find the most frequent violation by boro."
   ]
  },
  {
   "cell_type": "code",
   "execution_count": 15,
   "metadata": {
    "collapsed": false
   },
   "outputs": [
    {
     "data": {
      "text/html": [
       "<div>\n",
       "<table border=\"1\" class=\"dataframe\">\n",
       "  <thead>\n",
       "    <tr style=\"text-align: right;\">\n",
       "      <th>BORO</th>\n",
       "      <th>BRONX</th>\n",
       "      <th>BROOKLYN</th>\n",
       "      <th>MANHATTAN</th>\n",
       "      <th>QUEENS</th>\n",
       "      <th>STATEN ISLAND</th>\n",
       "      <th>All</th>\n",
       "    </tr>\n",
       "    <tr>\n",
       "      <th>VIOLATION DESCRIPTION</th>\n",
       "      <th></th>\n",
       "      <th></th>\n",
       "      <th></th>\n",
       "      <th></th>\n",
       "      <th></th>\n",
       "      <th></th>\n",
       "    </tr>\n",
       "  </thead>\n",
       "  <tbody>\n",
       "    <tr>\n",
       "      <th>\u001aChoking first aid\u001a poster not posted. \u001aAlcohol and pregnancy\u001a warning sign not posted. Resuscitation equipment: exhaled air resuscitation masks (adult &amp; pediatric), latex gloves, sign not posted. Inspection report sign not posted.</th>\n",
       "      <td>12</td>\n",
       "      <td>40</td>\n",
       "      <td>49</td>\n",
       "      <td>29</td>\n",
       "      <td>5</td>\n",
       "      <td>135</td>\n",
       "    </tr>\n",
       "    <tr>\n",
       "      <th>''''No Smoking\u001a and/or 'Smoking Permitted\u001a sign not conspicuously posted. Health warning not present on 'Smoking Permitted\u001a</th>\n",
       "      <td>1</td>\n",
       "      <td>5</td>\n",
       "      <td>6</td>\n",
       "      <td>4</td>\n",
       "      <td>1</td>\n",
       "      <td>17</td>\n",
       "    </tr>\n",
       "    <tr>\n",
       "      <th>''''Wash hands\u001a sign not posted at hand wash facility.</th>\n",
       "      <td>21</td>\n",
       "      <td>57</td>\n",
       "      <td>93</td>\n",
       "      <td>60</td>\n",
       "      <td>8</td>\n",
       "      <td>239</td>\n",
       "    </tr>\n",
       "    <tr>\n",
       "      <th>A food containing artificial trans fat, with 0.5 grams or more of trans fat per serving, is being stored, distributed, held for service, used in preparation of a menu item, or served.</th>\n",
       "      <td>5</td>\n",
       "      <td>12</td>\n",
       "      <td>19</td>\n",
       "      <td>24</td>\n",
       "      <td>3</td>\n",
       "      <td>63</td>\n",
       "    </tr>\n",
       "    <tr>\n",
       "      <th>Accurate thermometer not provided in refrigerated or hot holding equipment.</th>\n",
       "      <td>21</td>\n",
       "      <td>76</td>\n",
       "      <td>98</td>\n",
       "      <td>92</td>\n",
       "      <td>16</td>\n",
       "      <td>303</td>\n",
       "    </tr>\n",
       "    <tr>\n",
       "      <th>Appropriately scaled metal stem-type thermometer or thermocouple not provided or used to evaluate temperatures of potentially hazardous foods during cooking, cooling, reheating and holding.</th>\n",
       "      <td>27</td>\n",
       "      <td>120</td>\n",
       "      <td>162</td>\n",
       "      <td>85</td>\n",
       "      <td>17</td>\n",
       "      <td>411</td>\n",
       "    </tr>\n",
       "    <tr>\n",
       "      <th>Ashtray present in smoke-free area.</th>\n",
       "      <td>4</td>\n",
       "      <td>4</td>\n",
       "      <td>5</td>\n",
       "      <td>8</td>\n",
       "      <td>1</td>\n",
       "      <td>22</td>\n",
       "    </tr>\n",
       "    <tr>\n",
       "      <th>Bulb not shielded or shatterproof, in areas where there is extreme heat, temperature changes, or where accidental contact may occur.</th>\n",
       "      <td>20</td>\n",
       "      <td>93</td>\n",
       "      <td>168</td>\n",
       "      <td>80</td>\n",
       "      <td>10</td>\n",
       "      <td>371</td>\n",
       "    </tr>\n",
       "    <tr>\n",
       "      <th>Caloric content not posted on menus, menu boards or food tags, in a food service establishment that is 1 of 15 or more outlets operating the same type of business nationally under common ownership or control, or as a franchise or doing business under the same name, for each menu item that is served in portions, the size and content of which are standardized.</th>\n",
       "      <td>0</td>\n",
       "      <td>4</td>\n",
       "      <td>6</td>\n",
       "      <td>5</td>\n",
       "      <td>1</td>\n",
       "      <td>16</td>\n",
       "    </tr>\n",
       "    <tr>\n",
       "      <th>Caloric content range (minimum to maximum) not posted on menus and or menu boards for each flavor, variety and size of each menu item that is offered for sale in different flavors, varieties and sizes.</th>\n",
       "      <td>0</td>\n",
       "      <td>0</td>\n",
       "      <td>0</td>\n",
       "      <td>1</td>\n",
       "      <td>0</td>\n",
       "      <td>1</td>\n",
       "    </tr>\n",
       "    <tr>\n",
       "      <th>Canned food product observed dented and not segregated from other consumable food items.</th>\n",
       "      <td>16</td>\n",
       "      <td>33</td>\n",
       "      <td>76</td>\n",
       "      <td>44</td>\n",
       "      <td>3</td>\n",
       "      <td>172</td>\n",
       "    </tr>\n",
       "    <tr>\n",
       "      <th>Canned food product observed swollen, leaking or rusted, and not segregated from other consumable food items .</th>\n",
       "      <td>0</td>\n",
       "      <td>2</td>\n",
       "      <td>2</td>\n",
       "      <td>1</td>\n",
       "      <td>0</td>\n",
       "      <td>5</td>\n",
       "    </tr>\n",
       "    <tr>\n",
       "      <th>Cold food item held above 41º F (smoked fish and reduced oxygen packaged foods above 38 ºF) except during necessary preparation.</th>\n",
       "      <td>168</td>\n",
       "      <td>635</td>\n",
       "      <td>1232</td>\n",
       "      <td>621</td>\n",
       "      <td>118</td>\n",
       "      <td>2774</td>\n",
       "    </tr>\n",
       "    <tr>\n",
       "      <th>Covered garbage receptacle not provided or inadequate, except that garbage receptacle may be uncovered during active use. Garbage storage area not properly constructed or maintained; grinder or compactor dirty.</th>\n",
       "      <td>7</td>\n",
       "      <td>35</td>\n",
       "      <td>65</td>\n",
       "      <td>24</td>\n",
       "      <td>4</td>\n",
       "      <td>135</td>\n",
       "    </tr>\n",
       "    <tr>\n",
       "      <th>Current letter grade card not posted.</th>\n",
       "      <td>22</td>\n",
       "      <td>61</td>\n",
       "      <td>176</td>\n",
       "      <td>51</td>\n",
       "      <td>15</td>\n",
       "      <td>325</td>\n",
       "    </tr>\n",
       "    <tr>\n",
       "      <th>Duties of an officer of the Department interfered with or obstructed.</th>\n",
       "      <td>2</td>\n",
       "      <td>3</td>\n",
       "      <td>2</td>\n",
       "      <td>1</td>\n",
       "      <td>0</td>\n",
       "      <td>8</td>\n",
       "    </tr>\n",
       "    <tr>\n",
       "      <th>Eggs found dirty/cracked; liquid, frozen or powdered eggs not pasteurized.</th>\n",
       "      <td>0</td>\n",
       "      <td>3</td>\n",
       "      <td>4</td>\n",
       "      <td>3</td>\n",
       "      <td>1</td>\n",
       "      <td>11</td>\n",
       "    </tr>\n",
       "    <tr>\n",
       "      <th>Evidence of mice or live mice present in facility's food and/or non-food areas.</th>\n",
       "      <td>313</td>\n",
       "      <td>937</td>\n",
       "      <td>1228</td>\n",
       "      <td>776</td>\n",
       "      <td>103</td>\n",
       "      <td>3357</td>\n",
       "    </tr>\n",
       "    <tr>\n",
       "      <th>Evidence of rats or live rats present in facility's food and/or non-food areas.</th>\n",
       "      <td>40</td>\n",
       "      <td>93</td>\n",
       "      <td>133</td>\n",
       "      <td>42</td>\n",
       "      <td>4</td>\n",
       "      <td>312</td>\n",
       "    </tr>\n",
       "    <tr>\n",
       "      <th>Facility not vermin proof. Harborage or conditions conducive to attracting vermin to the premises and/or allowing vermin to exist.</th>\n",
       "      <td>452</td>\n",
       "      <td>1242</td>\n",
       "      <td>1890</td>\n",
       "      <td>1107</td>\n",
       "      <td>128</td>\n",
       "      <td>4819</td>\n",
       "    </tr>\n",
       "    <tr>\n",
       "      <th>Failure to comply with an Order of the Board of Health, Commissioner, or Department.</th>\n",
       "      <td>2</td>\n",
       "      <td>6</td>\n",
       "      <td>8</td>\n",
       "      <td>0</td>\n",
       "      <td>0</td>\n",
       "      <td>16</td>\n",
       "    </tr>\n",
       "    <tr>\n",
       "      <th>Filth flies or food/refuse/sewage-associated (FRSA) flies present in facility\u001as food and/or non-food areas. Filth flies include house flies, little house flies, blow flies, bottle flies and flesh flies. Food/refuse/sewage-associated flies include fruit flies, drain flies and Phorid flies.</th>\n",
       "      <td>178</td>\n",
       "      <td>392</td>\n",
       "      <td>881</td>\n",
       "      <td>388</td>\n",
       "      <td>46</td>\n",
       "      <td>1885</td>\n",
       "    </tr>\n",
       "    <tr>\n",
       "      <th>Flavored tobacco products sold or offered for sale.</th>\n",
       "      <td>4</td>\n",
       "      <td>6</td>\n",
       "      <td>4</td>\n",
       "      <td>5</td>\n",
       "      <td>0</td>\n",
       "      <td>19</td>\n",
       "    </tr>\n",
       "    <tr>\n",
       "      <th>Food Protection Certificate not held by supervisor of food operations.</th>\n",
       "      <td>90</td>\n",
       "      <td>238</td>\n",
       "      <td>297</td>\n",
       "      <td>230</td>\n",
       "      <td>33</td>\n",
       "      <td>888</td>\n",
       "    </tr>\n",
       "    <tr>\n",
       "      <th>Food allergy information poster not conspicuously posted where food is being prepared or processed by food workers.</th>\n",
       "      <td>2</td>\n",
       "      <td>16</td>\n",
       "      <td>14</td>\n",
       "      <td>7</td>\n",
       "      <td>0</td>\n",
       "      <td>39</td>\n",
       "    </tr>\n",
       "    <tr>\n",
       "      <th>Food allergy information poster not posted in language understood by all food workers.</th>\n",
       "      <td>0</td>\n",
       "      <td>0</td>\n",
       "      <td>2</td>\n",
       "      <td>1</td>\n",
       "      <td>0</td>\n",
       "      <td>3</td>\n",
       "    </tr>\n",
       "    <tr>\n",
       "      <th>Food contact surface improperly constructed or located. Unacceptable material used.</th>\n",
       "      <td>1</td>\n",
       "      <td>1</td>\n",
       "      <td>3</td>\n",
       "      <td>1</td>\n",
       "      <td>0</td>\n",
       "      <td>6</td>\n",
       "    </tr>\n",
       "    <tr>\n",
       "      <th>Food contact surface not properly maintained.</th>\n",
       "      <td>42</td>\n",
       "      <td>187</td>\n",
       "      <td>257</td>\n",
       "      <td>126</td>\n",
       "      <td>14</td>\n",
       "      <td>626</td>\n",
       "    </tr>\n",
       "    <tr>\n",
       "      <th>Food contact surface not properly washed, rinsed and sanitized after each use and following any activity when contamination may have occurred.</th>\n",
       "      <td>156</td>\n",
       "      <td>615</td>\n",
       "      <td>1203</td>\n",
       "      <td>619</td>\n",
       "      <td>119</td>\n",
       "      <td>2712</td>\n",
       "    </tr>\n",
       "    <tr>\n",
       "      <th>Food from unapproved or unknown source or home canned. Reduced oxygen packaged (ROP) fish not frozen before processing; or ROP foods prepared on premises transported to another site.</th>\n",
       "      <td>2</td>\n",
       "      <td>25</td>\n",
       "      <td>22</td>\n",
       "      <td>11</td>\n",
       "      <td>1</td>\n",
       "      <td>61</td>\n",
       "    </tr>\n",
       "    <tr>\n",
       "      <th>...</th>\n",
       "      <td>...</td>\n",
       "      <td>...</td>\n",
       "      <td>...</td>\n",
       "      <td>...</td>\n",
       "      <td>...</td>\n",
       "      <td>...</td>\n",
       "    </tr>\n",
       "    <tr>\n",
       "      <th>Notice of the Department of Board of Health mutilated, obstructed, or removed.</th>\n",
       "      <td>0</td>\n",
       "      <td>2</td>\n",
       "      <td>1</td>\n",
       "      <td>0</td>\n",
       "      <td>0</td>\n",
       "      <td>3</td>\n",
       "    </tr>\n",
       "    <tr>\n",
       "      <th>Nuisance created or allowed to exist. Facility not free from unsafe, hazardous, offensive or annoying conditions.</th>\n",
       "      <td>6</td>\n",
       "      <td>37</td>\n",
       "      <td>63</td>\n",
       "      <td>38</td>\n",
       "      <td>2</td>\n",
       "      <td>146</td>\n",
       "    </tr>\n",
       "    <tr>\n",
       "      <th>Operator failed to make good faith effort to inform smokers of the Smoke-free Act prohibition of smoking.</th>\n",
       "      <td>5</td>\n",
       "      <td>2</td>\n",
       "      <td>0</td>\n",
       "      <td>4</td>\n",
       "      <td>0</td>\n",
       "      <td>11</td>\n",
       "    </tr>\n",
       "    <tr>\n",
       "      <th>Original label for tobacco products sold or offered for sale.</th>\n",
       "      <td>0</td>\n",
       "      <td>2</td>\n",
       "      <td>4</td>\n",
       "      <td>3</td>\n",
       "      <td>0</td>\n",
       "      <td>9</td>\n",
       "    </tr>\n",
       "    <tr>\n",
       "      <th>Out-of package sale of tobacco products observed.</th>\n",
       "      <td>0</td>\n",
       "      <td>0</td>\n",
       "      <td>2</td>\n",
       "      <td>0</td>\n",
       "      <td>0</td>\n",
       "      <td>2</td>\n",
       "    </tr>\n",
       "    <tr>\n",
       "      <th>Permit not conspicuously displayed.</th>\n",
       "      <td>6</td>\n",
       "      <td>4</td>\n",
       "      <td>22</td>\n",
       "      <td>4</td>\n",
       "      <td>0</td>\n",
       "      <td>36</td>\n",
       "    </tr>\n",
       "    <tr>\n",
       "      <th>Personal cleanliness inadequate. Outer garment soiled with possible contaminant.  Effective hair restraint not worn in an area where food is prepared.</th>\n",
       "      <td>43</td>\n",
       "      <td>190</td>\n",
       "      <td>309</td>\n",
       "      <td>189</td>\n",
       "      <td>32</td>\n",
       "      <td>763</td>\n",
       "    </tr>\n",
       "    <tr>\n",
       "      <th>Pesticide use not in accordance with label or applicable laws. Prohibited chemical used/stored. Open bait station used.</th>\n",
       "      <td>41</td>\n",
       "      <td>147</td>\n",
       "      <td>186</td>\n",
       "      <td>140</td>\n",
       "      <td>20</td>\n",
       "      <td>534</td>\n",
       "    </tr>\n",
       "    <tr>\n",
       "      <th>Plumbing not properly installed or maintained; anti-siphonage or backflow prevention device not provided where required; equipment or floor not properly drained; sewage disposal system in disrepair or not functioning properly.</th>\n",
       "      <td>149</td>\n",
       "      <td>490</td>\n",
       "      <td>861</td>\n",
       "      <td>502</td>\n",
       "      <td>91</td>\n",
       "      <td>2093</td>\n",
       "    </tr>\n",
       "    <tr>\n",
       "      <th>Potable water supply inadequate. Water or ice not potable or from unapproved source.  Cross connection in potable water supply system observed.</th>\n",
       "      <td>0</td>\n",
       "      <td>0</td>\n",
       "      <td>2</td>\n",
       "      <td>0</td>\n",
       "      <td>0</td>\n",
       "      <td>2</td>\n",
       "    </tr>\n",
       "    <tr>\n",
       "      <th>Precooked potentially hazardous food from commercial food processing establishment that is supposed to be heated, but is not heated to 140º F within 2 hours.</th>\n",
       "      <td>0</td>\n",
       "      <td>5</td>\n",
       "      <td>2</td>\n",
       "      <td>0</td>\n",
       "      <td>0</td>\n",
       "      <td>7</td>\n",
       "    </tr>\n",
       "    <tr>\n",
       "      <th>Proper sanitization not provided for utensil ware washing operation.</th>\n",
       "      <td>53</td>\n",
       "      <td>154</td>\n",
       "      <td>281</td>\n",
       "      <td>150</td>\n",
       "      <td>22</td>\n",
       "      <td>660</td>\n",
       "    </tr>\n",
       "    <tr>\n",
       "      <th>ROP processing equipment not approved by DOHMH.</th>\n",
       "      <td>0</td>\n",
       "      <td>1</td>\n",
       "      <td>2</td>\n",
       "      <td>1</td>\n",
       "      <td>0</td>\n",
       "      <td>4</td>\n",
       "    </tr>\n",
       "    <tr>\n",
       "      <th>Raw food not properly washed prior to serving.</th>\n",
       "      <td>0</td>\n",
       "      <td>0</td>\n",
       "      <td>0</td>\n",
       "      <td>1</td>\n",
       "      <td>0</td>\n",
       "      <td>1</td>\n",
       "    </tr>\n",
       "    <tr>\n",
       "      <th>Raw, cooked or prepared food is adulterated, contaminated, cross-contaminated, or not discarded in accordance with HACCP plan.</th>\n",
       "      <td>50</td>\n",
       "      <td>218</td>\n",
       "      <td>435</td>\n",
       "      <td>231</td>\n",
       "      <td>36</td>\n",
       "      <td>970</td>\n",
       "    </tr>\n",
       "    <tr>\n",
       "      <th>Sanitized equipment or utensil, including in-use food dispensing utensil, improperly used or stored.</th>\n",
       "      <td>48</td>\n",
       "      <td>195</td>\n",
       "      <td>410</td>\n",
       "      <td>283</td>\n",
       "      <td>45</td>\n",
       "      <td>981</td>\n",
       "    </tr>\n",
       "    <tr>\n",
       "      <th>Sewage disposal system improper or unapproved.</th>\n",
       "      <td>1</td>\n",
       "      <td>3</td>\n",
       "      <td>5</td>\n",
       "      <td>4</td>\n",
       "      <td>0</td>\n",
       "      <td>13</td>\n",
       "    </tr>\n",
       "    <tr>\n",
       "      <th>Shellfish not from approved source, improperly tagged/labeled; tags not retained for 90 days.</th>\n",
       "      <td>0</td>\n",
       "      <td>10</td>\n",
       "      <td>8</td>\n",
       "      <td>9</td>\n",
       "      <td>2</td>\n",
       "      <td>29</td>\n",
       "    </tr>\n",
       "    <tr>\n",
       "      <th>Single service item reused, improperly stored, dispensed; not used when required.</th>\n",
       "      <td>27</td>\n",
       "      <td>93</td>\n",
       "      <td>149</td>\n",
       "      <td>114</td>\n",
       "      <td>15</td>\n",
       "      <td>398</td>\n",
       "    </tr>\n",
       "    <tr>\n",
       "      <th>Smoke free workplace smoking policy inadequate, not posted, not provided to employees.</th>\n",
       "      <td>45</td>\n",
       "      <td>222</td>\n",
       "      <td>264</td>\n",
       "      <td>154</td>\n",
       "      <td>22</td>\n",
       "      <td>707</td>\n",
       "    </tr>\n",
       "    <tr>\n",
       "      <th>Thawing procedures improper.</th>\n",
       "      <td>36</td>\n",
       "      <td>109</td>\n",
       "      <td>151</td>\n",
       "      <td>100</td>\n",
       "      <td>23</td>\n",
       "      <td>419</td>\n",
       "    </tr>\n",
       "    <tr>\n",
       "      <th>The original nutritional fact labels and/or ingredient label for a cooking oil, shortening or margarine or food item sold in bulk, or acceptable manufacturer\u001as documentation not maintained on site.</th>\n",
       "      <td>48</td>\n",
       "      <td>125</td>\n",
       "      <td>198</td>\n",
       "      <td>151</td>\n",
       "      <td>25</td>\n",
       "      <td>547</td>\n",
       "    </tr>\n",
       "    <tr>\n",
       "      <th>Tobacco use, eating, or drinking from open container in food preparation, food storage or dishwashing area observed.</th>\n",
       "      <td>22</td>\n",
       "      <td>55</td>\n",
       "      <td>107</td>\n",
       "      <td>64</td>\n",
       "      <td>7</td>\n",
       "      <td>255</td>\n",
       "    </tr>\n",
       "    <tr>\n",
       "      <th>Toilet facility not maintained and provided with toilet paper, waste receptacle and self-closing door.</th>\n",
       "      <td>46</td>\n",
       "      <td>142</td>\n",
       "      <td>225</td>\n",
       "      <td>134</td>\n",
       "      <td>14</td>\n",
       "      <td>561</td>\n",
       "    </tr>\n",
       "    <tr>\n",
       "      <th>Toilet facility not provided for employees or for patrons when required.</th>\n",
       "      <td>2</td>\n",
       "      <td>3</td>\n",
       "      <td>11</td>\n",
       "      <td>3</td>\n",
       "      <td>1</td>\n",
       "      <td>20</td>\n",
       "    </tr>\n",
       "    <tr>\n",
       "      <th>Toilet facility used by women does not have at least one covered garbage receptacle.</th>\n",
       "      <td>1</td>\n",
       "      <td>5</td>\n",
       "      <td>7</td>\n",
       "      <td>2</td>\n",
       "      <td>1</td>\n",
       "      <td>16</td>\n",
       "    </tr>\n",
       "    <tr>\n",
       "      <th>Toxic chemical improperly labeled, stored or used such that food contamination may occur.</th>\n",
       "      <td>2</td>\n",
       "      <td>8</td>\n",
       "      <td>15</td>\n",
       "      <td>20</td>\n",
       "      <td>3</td>\n",
       "      <td>48</td>\n",
       "    </tr>\n",
       "    <tr>\n",
       "      <th>Unprotected food re-served.</th>\n",
       "      <td>1</td>\n",
       "      <td>0</td>\n",
       "      <td>1</td>\n",
       "      <td>0</td>\n",
       "      <td>0</td>\n",
       "      <td>2</td>\n",
       "    </tr>\n",
       "    <tr>\n",
       "      <th>Wiping cloths soiled or not stored in sanitizing solution.</th>\n",
       "      <td>47</td>\n",
       "      <td>198</td>\n",
       "      <td>285</td>\n",
       "      <td>168</td>\n",
       "      <td>25</td>\n",
       "      <td>723</td>\n",
       "    </tr>\n",
       "    <tr>\n",
       "      <th>All</th>\n",
       "      <td>3418</td>\n",
       "      <td>10971</td>\n",
       "      <td>17707</td>\n",
       "      <td>10393</td>\n",
       "      <td>1514</td>\n",
       "      <td>44003</td>\n",
       "    </tr>\n",
       "  </tbody>\n",
       "</table>\n",
       "<p>83 rows × 6 columns</p>\n",
       "</div>"
      ],
      "text/plain": [
       "BORO                                                BRONX  BROOKLYN  \\\n",
       "VIOLATION DESCRIPTION                                                 \n",
       "\u001aChoking first aid\u001a poster not posted. \u001aAlcohol...     12        40   \n",
       "''''No Smoking\u001a and/or 'Smoking Permitted\u001a sign...      1         5   \n",
       "''''Wash hands\u001a sign not posted at hand wash fa...     21        57   \n",
       "A food containing artificial trans fat, with 0....      5        12   \n",
       "Accurate thermometer not provided in refrigerat...     21        76   \n",
       "Appropriately scaled metal stem-type thermomete...     27       120   \n",
       "Ashtray present in smoke-free area.                     4         4   \n",
       "Bulb not shielded or shatterproof, in areas whe...     20        93   \n",
       "Caloric content not posted on menus, menu board...      0         4   \n",
       "Caloric content range (minimum to maximum) not ...      0         0   \n",
       "Canned food product observed dented and not seg...     16        33   \n",
       "Canned food product observed swollen, leaking o...      0         2   \n",
       "Cold food item held above 41º F (smoked fish an...    168       635   \n",
       "Covered garbage receptacle not provided or inad...      7        35   \n",
       "Current letter grade card not posted.                  22        61   \n",
       "Duties of an officer of the Department interfer...      2         3   \n",
       "Eggs found dirty/cracked; liquid, frozen or pow...      0         3   \n",
       "Evidence of mice or live mice present in facili...    313       937   \n",
       "Evidence of rats or live rats present in facili...     40        93   \n",
       "Facility not vermin proof. Harborage or conditi...    452      1242   \n",
       "Failure to comply with an Order of the Board of...      2         6   \n",
       "Filth flies or food/refuse/sewage-associated (F...    178       392   \n",
       "Flavored tobacco products sold or offered for s...      4         6   \n",
       "Food Protection Certificate not held by supervi...     90       238   \n",
       "Food allergy information poster not conspicuous...      2        16   \n",
       "Food allergy information poster not posted in l...      0         0   \n",
       "Food contact surface improperly constructed or ...      1         1   \n",
       "Food contact surface not properly maintained.          42       187   \n",
       "Food contact surface not properly washed, rinse...    156       615   \n",
       "Food from unapproved or unknown source or home ...      2        25   \n",
       "...                                                   ...       ...   \n",
       "Notice of the Department of Board of Health mut...      0         2   \n",
       "Nuisance created or allowed to exist. Facility ...      6        37   \n",
       "Operator failed to make good faith effort to in...      5         2   \n",
       "Original label for tobacco products sold or off...      0         2   \n",
       "Out-of package sale of tobacco products observed.       0         0   \n",
       "Permit not conspicuously displayed.                     6         4   \n",
       "Personal cleanliness inadequate. Outer garment ...     43       190   \n",
       "Pesticide use not in accordance with label or a...     41       147   \n",
       "Plumbing not properly installed or maintained; ...    149       490   \n",
       "Potable water supply inadequate. Water or ice n...      0         0   \n",
       "Precooked potentially hazardous food from comme...      0         5   \n",
       "Proper sanitization not provided for utensil wa...     53       154   \n",
       "ROP processing equipment not approved by DOHMH.         0         1   \n",
       "Raw food not properly washed prior to serving.          0         0   \n",
       "Raw, cooked or prepared food is adulterated, co...     50       218   \n",
       "Sanitized equipment or utensil, including in-us...     48       195   \n",
       "Sewage disposal system improper or unapproved.          1         3   \n",
       "Shellfish not from approved source, improperly ...      0        10   \n",
       "Single service item reused, improperly stored, ...     27        93   \n",
       "Smoke free workplace smoking policy inadequate,...     45       222   \n",
       "Thawing procedures improper.                           36       109   \n",
       "The original nutritional fact labels and/or ing...     48       125   \n",
       "Tobacco use, eating, or drinking from open cont...     22        55   \n",
       "Toilet facility not maintained and provided wit...     46       142   \n",
       "Toilet facility not provided for employees or f...      2         3   \n",
       "Toilet facility used by women does not have at ...      1         5   \n",
       "Toxic chemical improperly labeled, stored or us...      2         8   \n",
       "Unprotected food re-served.                             1         0   \n",
       "Wiping cloths soiled or not stored in sanitizin...     47       198   \n",
       "All                                                  3418     10971   \n",
       "\n",
       "BORO                                                MANHATTAN  QUEENS  \\\n",
       "VIOLATION DESCRIPTION                                                   \n",
       "\u001aChoking first aid\u001a poster not posted. \u001aAlcohol...         49      29   \n",
       "''''No Smoking\u001a and/or 'Smoking Permitted\u001a sign...          6       4   \n",
       "''''Wash hands\u001a sign not posted at hand wash fa...         93      60   \n",
       "A food containing artificial trans fat, with 0....         19      24   \n",
       "Accurate thermometer not provided in refrigerat...         98      92   \n",
       "Appropriately scaled metal stem-type thermomete...        162      85   \n",
       "Ashtray present in smoke-free area.                         5       8   \n",
       "Bulb not shielded or shatterproof, in areas whe...        168      80   \n",
       "Caloric content not posted on menus, menu board...          6       5   \n",
       "Caloric content range (minimum to maximum) not ...          0       1   \n",
       "Canned food product observed dented and not seg...         76      44   \n",
       "Canned food product observed swollen, leaking o...          2       1   \n",
       "Cold food item held above 41º F (smoked fish an...       1232     621   \n",
       "Covered garbage receptacle not provided or inad...         65      24   \n",
       "Current letter grade card not posted.                     176      51   \n",
       "Duties of an officer of the Department interfer...          2       1   \n",
       "Eggs found dirty/cracked; liquid, frozen or pow...          4       3   \n",
       "Evidence of mice or live mice present in facili...       1228     776   \n",
       "Evidence of rats or live rats present in facili...        133      42   \n",
       "Facility not vermin proof. Harborage or conditi...       1890    1107   \n",
       "Failure to comply with an Order of the Board of...          8       0   \n",
       "Filth flies or food/refuse/sewage-associated (F...        881     388   \n",
       "Flavored tobacco products sold or offered for s...          4       5   \n",
       "Food Protection Certificate not held by supervi...        297     230   \n",
       "Food allergy information poster not conspicuous...         14       7   \n",
       "Food allergy information poster not posted in l...          2       1   \n",
       "Food contact surface improperly constructed or ...          3       1   \n",
       "Food contact surface not properly maintained.             257     126   \n",
       "Food contact surface not properly washed, rinse...       1203     619   \n",
       "Food from unapproved or unknown source or home ...         22      11   \n",
       "...                                                       ...     ...   \n",
       "Notice of the Department of Board of Health mut...          1       0   \n",
       "Nuisance created or allowed to exist. Facility ...         63      38   \n",
       "Operator failed to make good faith effort to in...          0       4   \n",
       "Original label for tobacco products sold or off...          4       3   \n",
       "Out-of package sale of tobacco products observed.           2       0   \n",
       "Permit not conspicuously displayed.                        22       4   \n",
       "Personal cleanliness inadequate. Outer garment ...        309     189   \n",
       "Pesticide use not in accordance with label or a...        186     140   \n",
       "Plumbing not properly installed or maintained; ...        861     502   \n",
       "Potable water supply inadequate. Water or ice n...          2       0   \n",
       "Precooked potentially hazardous food from comme...          2       0   \n",
       "Proper sanitization not provided for utensil wa...        281     150   \n",
       "ROP processing equipment not approved by DOHMH.             2       1   \n",
       "Raw food not properly washed prior to serving.              0       1   \n",
       "Raw, cooked or prepared food is adulterated, co...        435     231   \n",
       "Sanitized equipment or utensil, including in-us...        410     283   \n",
       "Sewage disposal system improper or unapproved.              5       4   \n",
       "Shellfish not from approved source, improperly ...          8       9   \n",
       "Single service item reused, improperly stored, ...        149     114   \n",
       "Smoke free workplace smoking policy inadequate,...        264     154   \n",
       "Thawing procedures improper.                              151     100   \n",
       "The original nutritional fact labels and/or ing...        198     151   \n",
       "Tobacco use, eating, or drinking from open cont...        107      64   \n",
       "Toilet facility not maintained and provided wit...        225     134   \n",
       "Toilet facility not provided for employees or f...         11       3   \n",
       "Toilet facility used by women does not have at ...          7       2   \n",
       "Toxic chemical improperly labeled, stored or us...         15      20   \n",
       "Unprotected food re-served.                                 1       0   \n",
       "Wiping cloths soiled or not stored in sanitizin...        285     168   \n",
       "All                                                     17707   10393   \n",
       "\n",
       "BORO                                                STATEN ISLAND    All  \n",
       "VIOLATION DESCRIPTION                                                     \n",
       "\u001aChoking first aid\u001a poster not posted. \u001aAlcohol...              5    135  \n",
       "''''No Smoking\u001a and/or 'Smoking Permitted\u001a sign...              1     17  \n",
       "''''Wash hands\u001a sign not posted at hand wash fa...              8    239  \n",
       "A food containing artificial trans fat, with 0....              3     63  \n",
       "Accurate thermometer not provided in refrigerat...             16    303  \n",
       "Appropriately scaled metal stem-type thermomete...             17    411  \n",
       "Ashtray present in smoke-free area.                             1     22  \n",
       "Bulb not shielded or shatterproof, in areas whe...             10    371  \n",
       "Caloric content not posted on menus, menu board...              1     16  \n",
       "Caloric content range (minimum to maximum) not ...              0      1  \n",
       "Canned food product observed dented and not seg...              3    172  \n",
       "Canned food product observed swollen, leaking o...              0      5  \n",
       "Cold food item held above 41º F (smoked fish an...            118   2774  \n",
       "Covered garbage receptacle not provided or inad...              4    135  \n",
       "Current letter grade card not posted.                          15    325  \n",
       "Duties of an officer of the Department interfer...              0      8  \n",
       "Eggs found dirty/cracked; liquid, frozen or pow...              1     11  \n",
       "Evidence of mice or live mice present in facili...            103   3357  \n",
       "Evidence of rats or live rats present in facili...              4    312  \n",
       "Facility not vermin proof. Harborage or conditi...            128   4819  \n",
       "Failure to comply with an Order of the Board of...              0     16  \n",
       "Filth flies or food/refuse/sewage-associated (F...             46   1885  \n",
       "Flavored tobacco products sold or offered for s...              0     19  \n",
       "Food Protection Certificate not held by supervi...             33    888  \n",
       "Food allergy information poster not conspicuous...              0     39  \n",
       "Food allergy information poster not posted in l...              0      3  \n",
       "Food contact surface improperly constructed or ...              0      6  \n",
       "Food contact surface not properly maintained.                  14    626  \n",
       "Food contact surface not properly washed, rinse...            119   2712  \n",
       "Food from unapproved or unknown source or home ...              1     61  \n",
       "...                                                           ...    ...  \n",
       "Notice of the Department of Board of Health mut...              0      3  \n",
       "Nuisance created or allowed to exist. Facility ...              2    146  \n",
       "Operator failed to make good faith effort to in...              0     11  \n",
       "Original label for tobacco products sold or off...              0      9  \n",
       "Out-of package sale of tobacco products observed.               0      2  \n",
       "Permit not conspicuously displayed.                             0     36  \n",
       "Personal cleanliness inadequate. Outer garment ...             32    763  \n",
       "Pesticide use not in accordance with label or a...             20    534  \n",
       "Plumbing not properly installed or maintained; ...             91   2093  \n",
       "Potable water supply inadequate. Water or ice n...              0      2  \n",
       "Precooked potentially hazardous food from comme...              0      7  \n",
       "Proper sanitization not provided for utensil wa...             22    660  \n",
       "ROP processing equipment not approved by DOHMH.                 0      4  \n",
       "Raw food not properly washed prior to serving.                  0      1  \n",
       "Raw, cooked or prepared food is adulterated, co...             36    970  \n",
       "Sanitized equipment or utensil, including in-us...             45    981  \n",
       "Sewage disposal system improper or unapproved.                  0     13  \n",
       "Shellfish not from approved source, improperly ...              2     29  \n",
       "Single service item reused, improperly stored, ...             15    398  \n",
       "Smoke free workplace smoking policy inadequate,...             22    707  \n",
       "Thawing procedures improper.                                   23    419  \n",
       "The original nutritional fact labels and/or ing...             25    547  \n",
       "Tobacco use, eating, or drinking from open cont...              7    255  \n",
       "Toilet facility not maintained and provided wit...             14    561  \n",
       "Toilet facility not provided for employees or f...              1     20  \n",
       "Toilet facility used by women does not have at ...              1     16  \n",
       "Toxic chemical improperly labeled, stored or us...              3     48  \n",
       "Unprotected food re-served.                                     0      2  \n",
       "Wiping cloths soiled or not stored in sanitizin...             25    723  \n",
       "All                                                          1514  44003  \n",
       "\n",
       "[83 rows x 6 columns]"
      ]
     },
     "execution_count": 15,
     "metadata": {},
     "output_type": "execute_result"
    }
   ],
   "source": [
    "violations_by_boro = df[['BORO','VIOLATION DESCRIPTION']]\n",
    "# Drop \"Missing\" Violations\n",
    "violations_by_boro = violations_by_boro[violations_by_boro['BORO'] != \"Missing\"]\n",
    "viol_crosstab = pd.crosstab(violations_by_boro['VIOLATION DESCRIPTION'], violations_by_boro['BORO'], margins = True)\n",
    "viol_crosstab"
   ]
  },
  {
   "cell_type": "code",
   "execution_count": 16,
   "metadata": {
    "collapsed": false
   },
   "outputs": [
    {
     "name": "stdout",
     "output_type": "stream",
     "text": [
      "BRONX:  \n",
      "Non-food contact surface improperly constructed. Unacceptable material used. Non-food contact surface or equipment improperly maintained and/or not properly sealed, raised, spaced or movable to allow accessibility for cleaning on all sides, above and underneath the unit. \n",
      "500 occurrences \n",
      "\n",
      "BROOKLYN:  \n",
      "Non-food contact surface improperly constructed. Unacceptable material used. Non-food contact surface or equipment improperly maintained and/or not properly sealed, raised, spaced or movable to allow accessibility for cleaning on all sides, above and underneath the unit. \n",
      "1485 occurrences \n",
      "\n",
      "MANHATTAN:  \n",
      "Non-food contact surface improperly constructed. Unacceptable material used. Non-food contact surface or equipment improperly maintained and/or not properly sealed, raised, spaced or movable to allow accessibility for cleaning on all sides, above and underneath the unit. \n",
      "2417 occurrences \n",
      "\n",
      "QUEENS:  \n",
      "Non-food contact surface improperly constructed. Unacceptable material used. Non-food contact surface or equipment improperly maintained and/or not properly sealed, raised, spaced or movable to allow accessibility for cleaning on all sides, above and underneath the unit. \n",
      "1416 occurrences \n",
      "\n",
      "STATEN ISLAND:  \n",
      "Non-food contact surface improperly constructed. Unacceptable material used. Non-food contact surface or equipment improperly maintained and/or not properly sealed, raised, spaced or movable to allow accessibility for cleaning on all sides, above and underneath the unit. \n",
      "230 occurrences \n",
      "\n"
     ]
    }
   ],
   "source": [
    "print \"BRONX: \", \"\\n\", viol_crosstab['BRONX'].drop('All').idxmax(), \"\\n\", viol_crosstab['BRONX'].drop('All').max(), \"occurrences\", \"\\n\"\n",
    "print \"BROOKLYN: \", \"\\n\", viol_crosstab['BROOKLYN'].drop('All').idxmax(), \"\\n\", viol_crosstab['BROOKLYN'].drop('All').max(), \"occurrences\", \"\\n\"\n",
    "print \"MANHATTAN: \", \"\\n\", viol_crosstab['MANHATTAN'].drop('All').idxmax(), \"\\n\", viol_crosstab['MANHATTAN'].drop('All').max(), \"occurrences\", \"\\n\"\n",
    "print \"QUEENS: \", \"\\n\", viol_crosstab['QUEENS'].drop('All').idxmax(), \"\\n\", viol_crosstab['QUEENS'].drop('All').max(), \"occurrences\", \"\\n\"\n",
    "print \"STATEN ISLAND: \", \"\\n\", viol_crosstab['STATEN ISLAND'].drop('All').idxmax(), \"\\n\", viol_crosstab['STATEN ISLAND'].drop('All').max(), \"occurrences\", \"\\n\""
   ]
  },
  {
   "cell_type": "markdown",
   "metadata": {},
   "source": [
    "### [Q12, 12 points] What are the most common violations per borough, after normalizing for the relative abundance of each violation?\n",
    "Hopefully, the answer to the previous question left you unsatisfied,\n",
    "because some violations are just very common, irrespective of borough. A\n",
    "better approach would be to normalize the violation counts, as follows.\n",
    "• Get overall frequencies: Figure out how common each violation is, over\n",
    "the entire dataset; let’s call this violationFrequency.\n",
    "• Normalize: Consider the table of number of violations by boro that\n",
    "you created for the previous question. For each borough, divide the\n",
    "number of violations of each type by the total number of violations for\n",
    "that type; i.e., divide the series of violations by violationFrequency.\n",
    "We want to do this for each borough.\n",
    "• Find the biggest violations: Now, after this normalization, for each\n",
    "borough, figure out the most common violation description."
   ]
  },
  {
   "cell_type": "markdown",
   "metadata": {},
   "source": [
    "Approach: First, find the overall violation freqencies to calculate the normalized occurance of violations. Then for each BORO, create a new column that divides the count for that violation by BORO by the violation frequency. Then, for each BORO, find the violation with the highest normalized frequency using max and idxmax."
   ]
  },
  {
   "cell_type": "code",
   "execution_count": 17,
   "metadata": {
    "collapsed": false
   },
   "outputs": [
    {
     "name": "stdout",
     "output_type": "stream",
     "text": [
      "BRONX:  \n",
      "Unprotected food re-served. \n",
      "500 occurrences \n",
      "\n",
      "BROOKLYN:  \n",
      "Precooked potentially hazardous food from commercial food processing establishment that is supposed to be heated, but is not heated to 140º F within 2 hours. \n",
      "1485 occurrences \n",
      "\n",
      "MANHATTAN:  \n",
      "Out-of package sale of tobacco products observed. \n",
      "2417 occurrences \n",
      "\n",
      "QUEENS:  \n",
      "Caloric content range (minimum to maximum) not posted on menus and or menu boards for each flavor, variety and size of each menu item that is offered for sale in different flavors, varieties and sizes. \n",
      "1416 occurrences \n",
      "\n",
      "STATEN ISLAND:  \n",
      "Eggs found dirty/cracked; liquid, frozen or powdered eggs not pasteurized. \n",
      "230 occurrences \n",
      "\n"
     ]
    }
   ],
   "source": [
    "violationFrequency = df['VIOLATION DESCRIPTION'].value_counts()\n",
    "viol_crosstab['violationFrequency'] = violationFrequency\n",
    "viol_crosstab['BRONX_NORM'] = viol_crosstab['BRONX'] / viol_crosstab['violationFrequency']\n",
    "viol_crosstab['BROOKLYN_NORM'] = viol_crosstab['BROOKLYN'] / viol_crosstab['violationFrequency']\n",
    "viol_crosstab['MANHATTAN_NORM'] = viol_crosstab['MANHATTAN'] / viol_crosstab['violationFrequency']\n",
    "viol_crosstab['QUEENS_NORM'] = viol_crosstab['QUEENS'] / viol_crosstab['violationFrequency']\n",
    "viol_crosstab['STATEN_ISLAND_NORM'] = viol_crosstab['STATEN ISLAND'] / viol_crosstab['violationFrequency']\n",
    "\n",
    "print \"BRONX: \", \"\\n\", viol_crosstab['BRONX_NORM'].drop('All').idxmax(), \"\\n\", viol_crosstab['BRONX'].drop('All').max(), \"occurrences\", \"\\n\"\n",
    "print \"BROOKLYN: \", \"\\n\", viol_crosstab['BROOKLYN_NORM'].drop('All').idxmax(), \"\\n\", viol_crosstab['BROOKLYN'].drop('All').max(), \"occurrences\", \"\\n\"\n",
    "print \"MANHATTAN: \", \"\\n\", viol_crosstab['MANHATTAN_NORM'].drop('All').idxmax(), \"\\n\", viol_crosstab['MANHATTAN'].drop('All').max(), \"occurrences\", \"\\n\"\n",
    "print \"QUEENS: \", \"\\n\", viol_crosstab['QUEENS_NORM'].drop('All').idxmax(), \"\\n\", viol_crosstab['QUEENS'].drop('All').max(), \"occurrences\", \"\\n\"\n",
    "print \"STATEN ISLAND: \", \"\\n\", viol_crosstab['STATEN_ISLAND_NORM'].drop('All').idxmax(), \"\\n\", viol_crosstab['STATEN ISLAND'].drop('All').max(), \"occurrences\", \"\\n\""
   ]
  },
  {
   "cell_type": "code",
   "execution_count": null,
   "metadata": {
    "collapsed": true
   },
   "outputs": [],
   "source": []
  }
 ],
 "metadata": {
  "kernelspec": {
   "display_name": "Python 2",
   "language": "python",
   "name": "python2"
  },
  "language_info": {
   "codemirror_mode": {
    "name": "ipython",
    "version": 2
   },
   "file_extension": ".py",
   "mimetype": "text/x-python",
   "name": "python",
   "nbconvert_exporter": "python",
   "pygments_lexer": "ipython2",
   "version": "2.7.13"
  }
 },
 "nbformat": 4,
 "nbformat_minor": 2
}
