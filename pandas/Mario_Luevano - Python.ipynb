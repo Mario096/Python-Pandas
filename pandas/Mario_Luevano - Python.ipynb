{
 "cells": [
  {
   "cell_type": "markdown",
   "metadata": {},
   "source": [
    "# Assignment 1: \n",
    "Arti Kumar, Mitchell Kagel, Rachel Downs, Juan Fuentes, Mario Luevano"
   ]
  },
  {
   "cell_type": "markdown",
   "metadata": {},
   "source": [
    "## 1. Rock, Paper, Scissors\n",
    "Approach: \n",
    "- Create computer random choice generator method for first move. Save all user choices, then randomly select choice from user choices so that the probability of user chosing that move based on historic moves is factored in.\n",
    "- Get and check user input method\n",
    "- Choose winner of round, print running score, ask if user wants to play again"
   ]
  },
  {
   "cell_type": "code",
   "execution_count": 1,
   "metadata": {
    "collapsed": true
   },
   "outputs": [],
   "source": [
    "# import libraries, files and create empty dictionaries to hold game history\n",
    "import random\n",
    "\n",
    "user_hist_choices = []\n",
    "game_history = {'user':0, 'computer':0}\n",
    "\n",
    "# R = Rock, P = Paper, S = Scissors\n",
    "# value beats key\n",
    "how_to_win = {'S':'R', 'P':'S', 'R':'P'}\n",
    "options = ('R','P','S')"
   ]
  },
  {
   "cell_type": "code",
   "execution_count": 2,
   "metadata": {
    "collapsed": true
   },
   "outputs": [],
   "source": [
    "# Function to create computer choice\n",
    "def computer_choice():\n",
    "    # no input to function\n",
    "    # return computer choice or -1 if error\n",
    "    \n",
    "    # check if there is no user choice history\n",
    "    if len(user_hist_choices) == 0:\n",
    "        # choose random choice from list\n",
    "        comp_choice = random.choice(options)\n",
    "        return comp_choice\n",
    "    if len(user_hist_choices) != 0:\n",
    "        # choose random choice from user previous choices and pick the move that beats it\n",
    "        prob_user_choice = random.choice(user_hist_choices)\n",
    "        # given user's random choice, choose the choice that beats that choice\n",
    "        comp_choice = how_to_win[prob_user_choice]\n",
    "        return comp_choice\n",
    "    # catching error\n",
    "    return -1"
   ]
  },
  {
   "cell_type": "code",
   "execution_count": 3,
   "metadata": {
    "collapsed": true
   },
   "outputs": [],
   "source": [
    "# Function to receive user choice\n",
    "def user_choice():\n",
    "    # no input\n",
    "    # returns user choice\n",
    "    \n",
    "    u_choice = \"\"\n",
    "    u_input = \"\"\n",
    "    while u_choice == \"\":\n",
    "        if u_input in (\"R\",\"S\",\"P\"):\n",
    "            u_choice = u_input\n",
    "        elif u_input == \"Q\":\n",
    "            return -1\n",
    "        else:\n",
    "            # ask for user input\n",
    "            print (\"Please pick 'R' for Rock, 'S' for Scissors, 'P' for Paper, or 'Q' for Quit\")\n",
    "            u_input = raw_input(\"Pick your choice: \")\n",
    "    # add user choice to user choice count\n",
    "    if u_input in user_hist_choices:\n",
    "        user_hist_choices.append(u_input)\n",
    "    else:\n",
    "        user_hist_choices.append(u_input)\n",
    "    return u_choice"
   ]
  },
  {
   "cell_type": "code",
   "execution_count": 4,
   "metadata": {
    "collapsed": true
   },
   "outputs": [],
   "source": [
    "# Function to find winner\n",
    "def find_winner(user,comp):\n",
    "    # input of user choice and computer choice\n",
    "    # return user outcome - Win, Loss, or Draw\n",
    "    \n",
    "    # given user selection, what does computer selection need to be to win\n",
    "    beat_user = how_to_win[user]\n",
    "    # if the computer selected the option that beats the user, then the user loses\n",
    "    if beat_user == comp:\n",
    "        # add one to the computer wins count\n",
    "        game_history['computer'] += 1\n",
    "        return \"L\"\n",
    "    # if the computer choice and user choice are the same, then it's a draw\n",
    "    elif user == comp:\n",
    "        return \"D\"\n",
    "    # else, the user won\n",
    "    else:\n",
    "        # add one to the user wins count\n",
    "        game_history['user'] += 1\n",
    "        return \"W\"\n",
    "    return -1"
   ]
  },
  {
   "cell_type": "code",
   "execution_count": 5,
   "metadata": {
    "collapsed": false
   },
   "outputs": [],
   "source": [
    "# Function to play game\n",
    "def play_game():\n",
    "    # no input\n",
    "    # return true or false if the user wants to keep playing\n",
    "    \n",
    "    # computer must choose first\n",
    "    comp = computer_choice()\n",
    "    user = user_choice()\n",
    "    if user == -1:\n",
    "        print \"Thanks for playing.\"\n",
    "        print \"YOUR RECORD: \"\n",
    "        print \"Wins: \", game_history['user']\n",
    "        print \"Losses: \", game_history['computer']\n",
    "        return False\n",
    "    else:\n",
    "        result = find_winner(user, comp)\n",
    "        print (\"user\",user)\n",
    "        print (\"comp\", comp)\n",
    "        if result == \"L\":\n",
    "            print \"Sorry you lost.\"\n",
    "        elif result == \"W\":\n",
    "            print \"Yay, you beat the computer!\"\n",
    "        else:\n",
    "            print \"This round was a draw.\"\n",
    "        return True"
   ]
  },
  {
   "cell_type": "code",
   "execution_count": 6,
   "metadata": {
    "collapsed": false
   },
   "outputs": [
    {
     "name": "stdout",
     "output_type": "stream",
     "text": [
      "Please pick 'R' for Rock, 'S' for Scissors, 'P' for Paper, or 'Q' for Quit\n",
      "Pick your choice: R\n",
      "('user', 'R')\n",
      "('comp', 'S')\n",
      "Yay, you beat the computer!\n",
      "Please pick 'R' for Rock, 'S' for Scissors, 'P' for Paper, or 'Q' for Quit\n",
      "Pick your choice: W\n",
      "Please pick 'R' for Rock, 'S' for Scissors, 'P' for Paper, or 'Q' for Quit\n",
      "Pick your choice: Q\n",
      "Thanks for playing.\n",
      "YOUR RECORD: \n",
      "Wins:  1\n",
      "Losses:  0\n"
     ]
    }
   ],
   "source": [
    "def main():\n",
    "    play = True\n",
    "    while play == True:\n",
    "        play = play_game()\n",
    "\n",
    "main()"
   ]
  },
  {
   "cell_type": "markdown",
   "metadata": {},
   "source": [
    "# 2. Movies\n",
    "Description"
   ]
  },
  {
   "cell_type": "code",
   "execution_count": null,
   "metadata": {
    "collapsed": true
   },
   "outputs": [],
   "source": []
  },
  {
   "cell_type": "markdown",
   "metadata": {},
   "source": [
    "# 3. Song-writing\n",
    "For this problem, we will have four functions: \n",
    "- the main function\n",
    "- a function that reads the endings file\n",
    "- a function that finds the rhythm and beat of a line, and\n",
    "- a function that completes a line "
   ]
  },
  {
   "cell_type": "code",
   "execution_count": 7,
   "metadata": {
    "collapsed": true
   },
   "outputs": [],
   "source": [
    "def read_endings():\n",
    "    # takes no parameters\n",
    "    # returns a list based on endings.txt file\n",
    "    endings_file = open('endings.txt', 'r')\n",
    "    output_list = [line.rstrip().split('::') for line in endings_file]\n",
    "    endings_file.close()\n",
    "    return output_list"
   ]
  },
  {
   "cell_type": "code",
   "execution_count": 8,
   "metadata": {
    "collapsed": true
   },
   "outputs": [],
   "source": [
    "def find_beat(ending_line, endings_list):\n",
    "    # takes the ending of a line and the list returned by read_endings()\n",
    "    # returns the rhythm and beat of the given ending\n",
    "    for line in endings_list:\n",
    "        if line[0] == ending_line:\n",
    "            return line[1], int(line[2])"
   ]
  },
  {
   "cell_type": "code",
   "execution_count": 9,
   "metadata": {
    "collapsed": true
   },
   "outputs": [],
   "source": [
    "def complete_line(prefix_beat, previous_ending_rhythm, previous_line_beat, endings_list):\n",
    "    # takes the prefix beat of a line, the ending rhythm of a previous line, the beat of a previous line, \n",
    "    # and the endings list returned by read_endings()\n",
    "    for line in endings_list:\n",
    "        if (line[1] == previous_ending_rhythm) and ((prefix_beat + int(line[2])) == previous_line_beat):\n",
    "            return line[0]"
   ]
  },
  {
   "cell_type": "code",
   "execution_count": 10,
   "metadata": {
    "collapsed": false
   },
   "outputs": [
    {
     "name": "stdout",
     "output_type": "stream",
     "text": [
      "He took a drag of the eight elements that composed, atmospheric gas\n",
      "'Bout to let off his sword, and full blast\n",
      "Kept his mind focused\n",
      "meditation position half lotus\n",
      "Abbot's sword novas couldn't match his magnum opus\n",
      "Deluxe stroke\n",
      "son move like a ghost\n",
      "Struck in an instance,\n",
      "unnoticed like a lamp post\n",
      "Radar sharp precision gunfire,\n",
      "explode\n",
      "Till his clips unload\n",
      "it's a samurai code\n"
     ]
    }
   ],
   "source": [
    "def main():\n",
    "    # takes no parameters\n",
    "    # returns nothing, but prints the result of the program\n",
    "    \n",
    "    endings = read_endings()\n",
    "    skeleton = open('skeleton_SamuraiShowdown.txt', 'r')\n",
    "\n",
    "    previous_ending_rhythm = ''\n",
    "    previous_line_beat = 0\n",
    "\n",
    "    for line in skeleton:\n",
    "        line = line.rstrip().split('::')\n",
    "\n",
    "        if (line[2] != 'XXX') and (line[2] != ''):\n",
    "            previous_ending_rhythm, ending_beat = find_beat(line[2], endings)\n",
    "            previous_line_beat = int(line[1]) + ending_beat\n",
    "            if (line[0] == ''):\n",
    "                print line[2]\n",
    "            else:\n",
    "                print line[0], line[2]\n",
    "\n",
    "        elif (line[2] == ''):\n",
    "            print line[0]\n",
    "\n",
    "        else:\n",
    "            new_beat = complete_line(int(line[1]), previous_ending_rhythm, previous_line_beat, endings)\n",
    "            print line[0], new_beat\n",
    "\n",
    "    skeleton.close()\n",
    "\n",
    "main()"
   ]
  },
  {
   "cell_type": "code",
   "execution_count": null,
   "metadata": {
    "collapsed": true
   },
   "outputs": [],
   "source": []
  }
 ],
 "metadata": {
  "kernelspec": {
   "display_name": "Python 2",
   "language": "python",
   "name": "python2"
  },
  "language_info": {
   "codemirror_mode": {
    "name": "ipython",
    "version": 2
   },
   "file_extension": ".py",
   "mimetype": "text/x-python",
   "name": "python",
   "nbconvert_exporter": "python",
   "pygments_lexer": "ipython2",
   "version": "2.7.13"
  }
 },
 "nbformat": 4,
 "nbformat_minor": 2
}
